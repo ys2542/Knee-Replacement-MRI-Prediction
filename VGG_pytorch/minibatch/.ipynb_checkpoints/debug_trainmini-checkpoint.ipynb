{
 "cells": [
  {
   "cell_type": "code",
   "execution_count": 1,
   "metadata": {},
   "outputs": [
    {
     "name": "stderr",
     "output_type": "stream",
     "text": [
      "/opt/oss-mldl/lib/python3.6/site-packages/h5py/__init__.py:36: FutureWarning: Conversion of the second argument of issubdtype from `float` to `np.floating` is deprecated. In future, it will be treated as `np.float64 == np.dtype(float).type`.\n",
      "  from ._conv import register_converters as _register_converters\n"
     ]
    }
   ],
   "source": [
    "import os\n",
    "import numpy as np\n",
    "import pandas as pd\n",
    "import json\n",
    "import matplotlib.pyplot as plt\n",
    "\n",
    "import torch\n",
    "import torch.nn as nn\n",
    "import torch.nn.functional as F\n",
    "import torch.optim as optim\n",
    "from torch.utils.data import Dataset, DataLoader\n",
    "from torchvision import transforms, utils\n",
    "import h5py\n",
    "from Augmentation import RandomCrop, CenterCrop, RandomFlip\n",
    "from dataloader import OAI_Dataloader\n",
    "from GlosyNet import Glosy\n",
    "from VGG import VGG\n",
    "import pdb"
   ]
  },
  {
   "cell_type": "code",
   "execution_count": 2,
   "metadata": {},
   "outputs": [],
   "source": [
    "no_cuda = False\n",
    "log_interval = 1\n",
    "cuda = not no_cuda and torch.cuda.is_available()\n",
    "seed = 1\n",
    "torch.manual_seed(seed)\n",
    "device = torch.device(\"cuda\" if cuda else \"cpu\")\n",
    "kwargs = {'num_workers': 1, 'pin_memory': True} if cuda else {}\n",
    "learning_rate = 0.00005\n",
    "num_epochs = 10"
   ]
  },
  {
   "cell_type": "markdown",
   "metadata": {},
   "source": [
    "new data"
   ]
  },
  {
   "cell_type": "code",
   "execution_count": 3,
   "metadata": {},
   "outputs": [],
   "source": [
    "csv_root_dir = '/home/hg1196/OA_TKR_imaging/VGG_pytorch/'\n",
    "root_dir = '/gpfs/data/denizlab/Datasets/OAI/SAG_IW_TSE/'\n",
    "train_csv_file = 'VGG_train.csv'\n",
    "val_csv_file = 'VGG_val.csv'"
   ]
  },
  {
   "cell_type": "markdown",
   "metadata": {},
   "source": [
    "Tianyu's data"
   ]
  },
  {
   "cell_type": "code",
   "execution_count": 8,
   "metadata": {},
   "outputs": [],
   "source": [
    "csv_root_dir = '/home/hg1196/oai/Tianyu/data/'\n",
    "root_dir = '/gpfs/data/denizlab/Datasets/OAI/SAG_IW_TSE/'\n",
    "train_csv_file = 'Fold1_train.csv'\n",
    "val_csv_file = 'Fold1_val.csv'"
   ]
  },
  {
   "cell_type": "code",
   "execution_count": 4,
   "metadata": {},
   "outputs": [],
   "source": [
    "#seq = ['Center', 'Normal', 'RandomCrop', 'RandomCrop', 'RandomCrop', 'RandomCrop', 'RandomCrop', 'RandomFlip']\n",
    "seq = ['Center', 'Center']\n",
    "\n",
    "param_dict = {\n",
    "    'Center': {'dim': (384,384,32),\n",
    "          'normalize' : False,\n",
    "          'randomCrop' : False,\n",
    "          'randomFlip' : False,\n",
    "          'flipProbability' : -1,\n",
    "          'cropDim' : (384,384,32)}, \n",
    "    'Normal': {'dim': (384,384,32),\n",
    "          'normalize' : True,\n",
    "          'randomCrop' : False,\n",
    "          'randomFlip' : False,\n",
    "          'flipProbability' : -1,\n",
    "          'cropDim' : (384,384,32)}, \n",
    "    'RandomCrop': {'dim': (384,384,32),\n",
    "          'normalize' : False,\n",
    "          'randomCrop' : True,\n",
    "          'randomFlip' : False,\n",
    "          'flipProbability' : -1,\n",
    "          'cropDim' : (384,384,32)}, \n",
    "    'RandomFlip': {'dim': (384,384,32),\n",
    "          'normalize' : False,\n",
    "          'randomCrop' : False,\n",
    "          'randomFlip' : True,\n",
    "          'flipProbability' : -1,\n",
    "          'cropDim' : (384,384,32)}\n",
    "}"
   ]
  },
  {
   "cell_type": "code",
   "execution_count": 5,
   "metadata": {},
   "outputs": [],
   "source": [
    "def test_model(loader, model):\n",
    "    correct = 0\n",
    "    total = 0\n",
    "    model.eval()\n",
    "    for im, labels in loader:\n",
    "        im, labels = im.to(device), labels.to(device)\n",
    "        outputs = F.softmax(model(im), dim=1)\n",
    "        loss = criterion(outputs, labels)\n",
    "        predicted = outputs.max(1, keepdim=True)[1]\n",
    "\n",
    "        total += labels.size(0)\n",
    "        correct += predicted.eq(labels.view_as(predicted)).sum().item()\n",
    "    return (100 * correct / total), loss"
   ]
  },
  {
   "cell_type": "code",
   "execution_count": 6,
   "metadata": {},
   "outputs": [],
   "source": [
    "model = Glosy().to(device)"
   ]
  },
  {
   "cell_type": "code",
   "execution_count": 6,
   "metadata": {},
   "outputs": [],
   "source": [
    "model = VGG('glosy').to(device)"
   ]
  },
  {
   "cell_type": "code",
   "execution_count": null,
   "metadata": {},
   "outputs": [
    {
     "name": "stdout",
     "output_type": "stream",
     "text": [
      "None\n",
      "None\n"
     ]
    }
   ],
   "source": [
    "criterion = torch.nn.CrossEntropyLoss().to(device)\n",
    "optimizer = torch.optim.Adam(model.parameters(), lr=learning_rate)\n",
    "\n",
    "for s in seq: \n",
    "    train_params = param_dict[s]\n",
    "    train_dataset = OAI_Dataloader(root_dir, csv_root_dir, train_csv_file, **train_params)\n",
    "    train_dataloader = DataLoader(train_dataset, batch_size=2, shuffle=True)\n",
    "    val_dataset = OAI_Dataloader(root_dir, csv_root_dir, val_csv_file, **train_params)\n",
    "    val_dataloader = DataLoader(val_dataset, batch_size=2, shuffle=True)\n",
    "    \n",
    "    for epoch in range(num_epochs):\n",
    "        for i, (im, labels) in enumerate(train_dataloader):\n",
    "            im, labels = im.to(device), labels.to(device)\n",
    "            model.train()\n",
    "            optimizer.zero_grad()\n",
    "            # Forward pass\n",
    "            outputs = model(im)\n",
    "            print(outputs.grad)\n",
    "            loss = criterion(outputs, labels)\n",
    "\n",
    "            # Backward and optimize\n",
    "            loss.backward()\n",
    "            optimizer.step()\n",
    "            \n",
    "            # validate every 100 iterations\n",
    "            if i > 0 and i % 1 == 0:\n",
    "                # validate\n",
    "                train_acc, train_l = test_model(train_dataloader, model)\n",
    "                val_acc, val_l = test_model(val_dataloader, model)\n",
    "                print('Epoch: [{}/{}], Step: [{}/{}], Validation Acc: {}'.format(\n",
    "                           epoch+1, num_epochs, i+1, len(train_dataloader), val_acc))\n",
    "                print(outputs)\n",
    "                print(train_acc)\n",
    "                print(train_l)"
   ]
  },
  {
   "cell_type": "code",
   "execution_count": null,
   "metadata": {},
   "outputs": [],
   "source": []
  }
 ],
 "metadata": {
  "kernelspec": {
   "display_name": "Python 3",
   "language": "python",
   "name": "python3"
  },
  "language_info": {
   "codemirror_mode": {
    "name": "ipython",
    "version": 3
   },
   "file_extension": ".py",
   "mimetype": "text/x-python",
   "name": "python",
   "nbconvert_exporter": "python",
   "pygments_lexer": "ipython3",
   "version": "3.6.4"
  }
 },
 "nbformat": 4,
 "nbformat_minor": 2
}
